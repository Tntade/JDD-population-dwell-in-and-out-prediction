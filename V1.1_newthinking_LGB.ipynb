{
 "cells": [
  {
   "cell_type": "code",
   "execution_count": 2,
   "metadata": {},
   "outputs": [
    {
     "data": {
      "text/plain": [
       "0"
      ]
     },
     "execution_count": 2,
     "metadata": {},
     "output_type": "execute_result"
    }
   ],
   "source": [
    "import numpy as np\n",
    "import pandas as pd\n",
    "import warnings\n",
    "warnings.filterwarnings('ignore')\n",
    "import gc\n",
    "gc.collect()"
   ]
  },
  {
   "cell_type": "code",
   "execution_count": null,
   "metadata": {},
   "outputs": [],
   "source": [
    "#实数序列数据预测问题，可以使用平方根误差\n",
    "# def rmse(y_true,y_pred):\n",
    "#     rmse=round(np.sqrt(np.average((y_pred-np.array(y_true))**2)),5)\n",
    "#     return rmse\n",
    "\n",
    "\n",
    "#这个评估标准是大赛规定的\n",
    "def rmsle(y_true, y_pred):\n",
    "    return 'RMSLE', round(np.sqrt(np.mean(np.power(np.log1p(y_pred) - np.log1p(y_true), 2))),5), False\n",
    "\n",
    "# from sklearn.metrics import mean_squared_error\n",
    "#也可以使用mse评价标准"
   ]
  },
  {
   "cell_type": "code",
   "execution_count": null,
   "metadata": {},
   "outputs": [],
   "source": [
    "# ======按照出发城市进行分集存储后提取训练==============\n",
    "\n",
    "#按照出发城市进行分集存储\n",
    "def save_data(path,data):\n",
    "    for i in range(0,7):\n",
    "        ndata=data[data['o_city_code']==i]\n",
    "        ndata.to_csv(path+'data_'+str(i)+'.csv',index=False)\n",
    "        \n",
    "path='../data/'\n",
    "save_data(path,data)\n",
    "\n",
    "gc.collect()"
   ]
  },
  {
   "cell_type": "markdown",
   "metadata": {},
   "source": [
    "# =====将train=train_set+off_set,再train_set=tr_set+val_set==="
   ]
  },
  {
   "cell_type": "code",
   "execution_count": null,
   "metadata": {},
   "outputs": [],
   "source": [
    "# class lightgbm.LGBMRegressor(boosting_type='gbdt', num_leaves=31, max_depth=-1, learning_rate=0.1, \n",
    "#                              n_estimators=100, subsample_for_bin=200000, objective=None, class_weight=None, \n",
    "#                              min_split_gain=0.0, min_child_weight=0.001, min_child_samples=20, subsample=1.0, \n",
    "#                              subsample_freq=0, colsample_bytree=1.0, reg_alpha=0.0, reg_lambda=0.0, \n",
    "#                              random_state=None, n_jobs=-1, silent=True, importance_type='split', **kwargs)\n",
    "\n",
    "def get_xy(path,i):\n",
    "    data=pd.read_csv(path+'data_'+str(i)+'.csv')\n",
    "    train=data[data['cnt'].notnull()]\n",
    "    test=data[data['cnt'].isnull()]\n",
    "    print(train.shape,test.shape)\n",
    "    \n",
    "    train_xy,off_xy=train_test_split(train,test_size=0.1,random_state=1)\n",
    "    tr,val=train_test_split(train_xy,test_size=0.15,random_state=1)\n",
    "    \n",
    "    drop_list=['cnt','o_city_code','o_city_code_hot']\n",
    "    y_train=tr.cnt\n",
    "    x_train=tr.drop(drop_list,axis=1)\n",
    "    y_val=val.cnt\n",
    "    x_val=val.drop(drop_list,axis=1)\n",
    "    x_off=off_xy.drop(drop_list,axis=1)\n",
    "    y_off=off_xy.cnt\n",
    "    test_x=test.drop(drop_list,axis=1)\n",
    "    return x_train,y_train,x_val,y_val,x_off,y_off,test_x"
   ]
  },
  {
   "cell_type": "code",
   "execution_count": null,
   "metadata": {},
   "outputs": [],
   "source": [
    "def lgb_train(x_train,y_train,x_val,y_val,x_off,y_off,test_x,i):\n",
    "    gbm = lgb.LGBMRegressor(objective='regression',\n",
    "                        num_leaves=50,\n",
    "                        learning_rate=0.05,\n",
    "                        n_estimators=942)\n",
    "\n",
    "    gbm.fit(x_train, y_train,\n",
    "        eval_set=[(x_train,y_train),(x_val,y_val)],\n",
    "        eval_metric='l1',\n",
    "        early_stopping_rounds=5)\n",
    "\n",
    "    y_pred = gbm.predict(x_val, num_iteration=gbm.best_iteration_)\n",
    "    y_eval=rmsle(y_val,y_pred)[1]\n",
    "    # print('The rmse of prediction is:', mean_squared_error(y_val, y_pred) ** 0.5)\n",
    "    print('The rmlse of prediction is:',y_eval)\n",
    "    # print('Feature importances:', list(gbm.feature_importances_))\n",
    "\n",
    "    y_pred_off=gbm.predict(x_off,num_iteration=gbm.best_iteration_)\n",
    "    y_off_eval=rmsle(y_off, y_pred_off)[1]\n",
    "    # print('The rmse of prediction is:', mean_squared_error(y_off, y_pred_off) ** 0.5)\n",
    "    print('The rmlse of prediction is:',y_off_eval)\n",
    "\n",
    "    print(\"过拟合(-) 或 欠拟合(+)：\",y_eval-y_off_eval)\n",
    "    gc.collect()\n",
    "    \n",
    "    test['cnt']=gbm.predict(test_x,num_iteration=gbm.best_iteration_)\n",
    "    test.to_csv(path+'test_'+str(i)+'.csv',index=False)\n",
    "    \n",
    "    return y_eval,y_off_eval"
   ]
  },
  {
   "cell_type": "code",
   "execution_count": null,
   "metadata": {},
   "outputs": [],
   "source": [
    "x_train,y_train,x_val,y_val,x_off,y_off,test_x=get_xy(path,0)\n",
    "rmsle0=lgb_train(x_train,y_train,x_val,y_val,x_off,y_off,test_x,0)"
   ]
  },
  {
   "cell_type": "code",
   "execution_count": null,
   "metadata": {},
   "outputs": [],
   "source": [
    "x_train,y_train,x_val,y_val,x_off,y_off,test_x=get_xy(path,1)\n",
    "rmsle1=lgb_train(x_train,y_train,x_val,y_val,x_off,y_off,test_x,1)"
   ]
  },
  {
   "cell_type": "code",
   "execution_count": null,
   "metadata": {},
   "outputs": [],
   "source": [
    "x_train,y_train,x_val,y_val,x_off,y_off,test_x=get_xy(path,2)\n",
    "rmsle2=lgb_train(x_train,y_train,x_val,y_val,x_off,y_off,test_x,2)"
   ]
  },
  {
   "cell_type": "code",
   "execution_count": null,
   "metadata": {},
   "outputs": [],
   "source": [
    "x_train,y_train,x_val,y_val,x_off,y_off,test_x=get_xy(path,3)\n",
    "rmsle3=lgb_train(x_train,y_train,x_val,y_val,x_off,y_off,test_x,3)"
   ]
  },
  {
   "cell_type": "code",
   "execution_count": null,
   "metadata": {},
   "outputs": [],
   "source": [
    "x_train,y_train,x_val,y_val,x_off,y_off,test_x=get_xy(path,4)\n",
    "rmsle4=lgb_train(x_train,y_train,x_val,y_val,x_off,y_off,test_x,4)"
   ]
  },
  {
   "cell_type": "code",
   "execution_count": null,
   "metadata": {},
   "outputs": [],
   "source": [
    "x_train,y_train,x_val,y_val,x_off,y_off,test_x=get_xy(path,5)\n",
    "rmsle5=lgb_train(x_train,y_train,x_val,y_val,x_off,y_off,test_x,5)"
   ]
  },
  {
   "cell_type": "code",
   "execution_count": null,
   "metadata": {},
   "outputs": [],
   "source": [
    "x_train,y_train,x_val,y_val,x_off,y_off,test_x=get_xy(path,6)\n",
    "rmsle6=lgb_train(x_train,y_train,x_val,y_val,x_off,y_off,test_x,6)"
   ]
  },
  {
   "cell_type": "code",
   "execution_count": null,
   "metadata": {},
   "outputs": [],
   "source": [
    "mean_rmsle_val=(rmsle0[0]+rmsle1[0]+rmsle2[0]+rmsle3[0]+rmsle4[0]+rmsle5[0]+rmsle6[0])/7\n",
    "mean_rmsle_off=(rmsle0[1]+rmsle1[1]+rmsle2[1]+rmsle3[1]+rmsle4[1]+rmsle5[1]+rmsle6[1])/7"
   ]
  },
  {
   "cell_type": "markdown",
   "metadata": {},
   "source": [
    "# =======进行StratifiedKFold=10折==============="
   ]
  },
  {
   "cell_type": "code",
   "execution_count": null,
   "metadata": {},
   "outputs": [],
   "source": [
    "from sklearn.model_selection import StratifiedKFold\n",
    "k=5\n",
    "skf=StratifiedKFold(n_splits=k,shuffle=True,random_state=1)"
   ]
  },
  {
   "cell_type": "code",
   "execution_count": null,
   "metadata": {},
   "outputs": [],
   "source": [
    "def get_xy(path,i):\n",
    "    data=pd.read_csv(path+'data_'+str(i)+'.csv')\n",
    "    train=data[data['cnt'].notnull()]\n",
    "    test=data[data['cnt'].isnull()]\n",
    "    print(train.shape,test.shape)\n",
    "    \n",
    "    train_xy,off_xy=train_test_split(train,test_size=0.1,random_state=1)\n",
    "    drop_list=['cnt','o_city_code','o_city_code_hot']   \n",
    "    y=train_xy.cnt\n",
    "    X=train_xy.drop(drop_list,axis=1)\n",
    "    \n",
    "    y_off=off_xy.cnt\n",
    "    x_off=off_xy.drop(drop_list,axis=1)\n",
    "    \n",
    "    test_x=test.drop(drop_list,axis=1)\n",
    "    \n",
    "    return X,y,x_off,y_off,test_x\n",
    "\n",
    "def lgb_train_k(X,y,x_off,y_off,test_x,k,i):\n",
    "    for i,(train_index,test_index) in enumerate(skf.split(X,y)):\n",
    "        print(\"Fold=%s\"%(i))\n",
    "        gbm = lgb.LGBMRegressor(objective='regression',\n",
    "                        num_leaves=50,\n",
    "                        learning_rate=0.05,\n",
    "                        n_estimators=942)\n",
    "        gbm.fit(X[train_index],y[train_index],\n",
    "                eval_set=[(X[train_index],y[train_index]),(X[test_index],y[test_index])],\n",
    "               eval_metric='l1',\n",
    "               early_stopping_rounds=10)\n",
    "        \n",
    "        y_pred=gbm.predict(X[test_index],num_iteration=gbm.best_iteration_)\n",
    "        rmsle=rmsle(y[test_index],y_pred)[1]\n",
    "        \n",
    "        y_off_pred=gbm.predict(x_off,num_iteration=gbm.best_iteration_)\n",
    "        rmsle_off=rmsle(y_off,y_off_pred)[1]\n",
    "        \n",
    "        test['cnt']=gbm.predict(test_x,num_iteration=gbm.best_iteration_)\n",
    "        test.to_csv(path+'testk_'+str(i)+'.csv',index=False)\n",
    "        \n",
    "        return rmsle,rmsle_off"
   ]
  },
  {
   "cell_type": "code",
   "execution_count": null,
   "metadata": {},
   "outputs": [],
   "source": [
    "# print(test0[test0['cnt']>=0].o_city_code.value_counts())\n",
    "\n",
    "# print(test0[test0['cnt']<0].o_city_code.value_counts())\n",
    "\n",
    "# tmp=train[train['o_city_code']==0][train['month']==3][train['day']<=15].groupby('day').cnt.count().reset_index()\n",
    "# print(tmp)\n",
    "# print(tmp.cnt.sum())\n",
    "\n",
    "#对于训练出来的负数，再后面整合的时候去掉"
   ]
  },
  {
   "cell_type": "code",
   "execution_count": null,
   "metadata": {},
   "outputs": [],
   "source": [
    "#暴力搜索最优参数,感觉不太理想，这一版本暂且不用\n",
    "# estimator = lgb.LGBMRegressor(num_leaves=31)\n",
    "# param_grid = {\n",
    "#     'learning_rate':[0.01,0.1,1],\n",
    "#     'n_estimators': [60,65,70] }\n",
    " \n",
    "# gbm = GridSearchCV(estimator, param_grid)\n",
    "# gbm.fit(x_train,y_train)\n",
    "\n",
    "# print('Best parameters found by grid search are:', gbm.best_params_)\n",
    "# print('Best parameters found by grid search are:', gbm.best_score_)\n",
    "# gc.collect()\n",
    "\n",
    "#1,80,0.9644001175652634\n",
    "#1,60,0.9612318411124592\n",
    "\n",
    "\n",
    "#最好的参数的gbm\n",
    "# gbm_best = lgb.LGBMRegressor(objective='regression',\n",
    "#                         num_leaves=31,\n",
    "#                         learning_rate=1,\n",
    "#                         n_estimators=60)\n",
    "\n",
    "# gbm_best.fit(x_train, y_train,\n",
    "#         eval_set=[(x_train,y_train),(x_val,y_val)],\n",
    "#         eval_metric='l1',\n",
    "#         early_stopping_rounds=5)\n",
    "\n",
    "# y_pred = gbm_best.predict(x_val, num_iteration=gbm_best.best_iteration_)\n",
    "# print('The rmse of prediction is:', mean_squared_error(y_val, y_pred) ** 0.5)\n",
    "# print('The rmlse of prediction is:',rmsle(y_val,y_pred)[1])\n",
    "\n",
    "# y_offline=gbm_best.predict(offline_x,num_iteration=gbm_best.best_iteration_)\n",
    "# print('The rmse of prediction is:', mean_squared_error(offline_y,y_offline) ** 0.5)\n",
    "# print('The rmlse of prediction is:',rmsle(offline_y,y_offline)[1])"
   ]
  },
  {
   "cell_type": "code",
   "execution_count": null,
   "metadata": {},
   "outputs": [],
   "source": [
    "### ============================<font color=red>try on all data<font>========================\n",
    "#没有单独用城市来训练的效果好，故舍弃\n",
    "\n",
    "# feature=['year','month','day','o_city_code','o_district_code','d_city_code','d_district_code']\n",
    "\n",
    "# train_xy,off_xy=train_test_split(train,test_size=0.1,random_state=1)\n",
    "# tr_xy,val_xy=train_test_split(train_xy,test_size=0.2,random_state=1)\n",
    "# x_train=tr_xy[feature]\n",
    "# y_train=tr_xy.cnt\n",
    "# x_val=val_xy[feature]\n",
    "# y_val=val_xy.cnt\n",
    "# x_off=off_xy[feature]\n",
    "# y_off=off_xy.cnt\n",
    "\n",
    "# test_x=test[feature]\n",
    "\n",
    "# gbm = lgb.LGBMRegressor(objective='regression',\n",
    "#                         num_leaves=50,\n",
    "#                         learning_rate=0.01,\n",
    "#                         n_estimators=3000)\n",
    "\n",
    "# gbm.fit(x_train, y_train,\n",
    "#         eval_set=[(x_train,y_train),(x_val,y_val)],\n",
    "#         eval_metric='l1',\n",
    "#         early_stopping_rounds=100)\n",
    "\n",
    "# y_pred = gbm.predict(x_val, num_iteration=gbm.best_iteration_)\n",
    "# y_eval=rmsle(y_val,y_pred)[1]\n",
    "# # print('The rmse of prediction is:', mean_squared_error(y_val, y_pred) ** 0.5)\n",
    "# print('The rmlse of prediction is:',y_eval)\n",
    "# # print('Feature importances:', list(gbm.feature_importances_))\n",
    "\n",
    "# y_pred_off=gbm.predict(x_off,num_iteration=gbm.best_iteration_)\n",
    "# y_off_eval=rmsle(y_off, y_pred_off)[1]\n",
    "# # print('The rmse of prediction is:', mean_squared_error(y_off, y_pred_off) ** 0.5)\n",
    "# print('The rmlse of prediction is:',y_off_eval)\n",
    "\n",
    "# print(\"过拟合(-) 或 欠拟合(+)：\",y_eval-y_off_eval)\n",
    "# gc.collect()"
   ]
  }
 ],
 "metadata": {
  "kernelspec": {
   "display_name": "Python 3",
   "language": "python",
   "name": "python3"
  },
  "language_info": {
   "codemirror_mode": {
    "name": "ipython",
    "version": 3
   },
   "file_extension": ".py",
   "mimetype": "text/x-python",
   "name": "python",
   "nbconvert_exporter": "python",
   "pygments_lexer": "ipython3",
   "version": "3.6.4"
  }
 },
 "nbformat": 4,
 "nbformat_minor": 2
}
