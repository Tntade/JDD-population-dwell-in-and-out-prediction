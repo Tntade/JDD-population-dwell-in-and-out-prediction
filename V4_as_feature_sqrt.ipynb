{
 "cells": [
  {
   "cell_type": "code",
   "execution_count": 35,
   "metadata": {},
   "outputs": [
    {
     "data": {
      "text/plain": [
       "119"
      ]
     },
     "execution_count": 35,
     "metadata": {},
     "output_type": "execute_result"
    }
   ],
   "source": [
    "import pandas as pd\n",
    "import numpy as np\n",
    "import warnings\n",
    "warnings.filterwarnings('ignore')\n",
    "import gc\n",
    "gc.collect()"
   ]
  },
  {
   "cell_type": "code",
   "execution_count": 36,
   "metadata": {},
   "outputs": [
    {
     "name": "stdout",
     "output_type": "stream",
     "text": [
      "(151635, 5)\n"
     ]
    }
   ],
   "source": [
    "#预测的test_cnt\n",
    "test0=pd.read_csv('../data/data_test_0.csv')\n",
    "test1=pd.read_csv('../data/data_test_1.csv')\n",
    "test2=pd.read_csv('../data/data_test_2.csv')\n",
    "test3=pd.read_csv('../data/data_test_3.csv')\n",
    "test4=pd.read_csv('../data/data_test_4.csv')\n",
    "test5=pd.read_csv('../data/data_test_5.csv')\n",
    "test6=pd.read_csv('../data/data_test_6.csv')\n",
    "test=pd.concat([test0,test1,test2,test3,test4,test5,test6],axis=0)\n",
    "print(test.shape)"
   ]
  },
  {
   "cell_type": "code",
   "execution_count": 37,
   "metadata": {},
   "outputs": [
    {
     "name": "stdout",
     "output_type": "stream",
     "text": [
      "(2471275, 5)\n"
     ]
    }
   ],
   "source": [
    "#预测的train_cnt\n",
    "train0=pd.read_csv('../data/data_train_0.csv')\n",
    "train1=pd.read_csv('../data/data_train_1.csv')\n",
    "train2=pd.read_csv('../data/data_train_2.csv')\n",
    "train3=pd.read_csv('../data/data_train_3.csv')\n",
    "train4=pd.read_csv('../data/data_train_4.csv')\n",
    "train5=pd.read_csv('../data/data_train_5.csv')\n",
    "train6=pd.read_csv('../data/data_train_6.csv')\n",
    "train=pd.concat([train0,train1,train2,train3,train4,train5,train6],axis=0)\n",
    "print(train.shape)"
   ]
  },
  {
   "cell_type": "code",
   "execution_count": 38,
   "metadata": {},
   "outputs": [
    {
     "name": "stdout",
     "output_type": "stream",
     "text": [
      "(2622910, 5)\n",
      "142590\n"
     ]
    }
   ],
   "source": [
    "cnt_df=pd.concat([train,test],axis=0)\n",
    "print(cnt_df.shape)\n",
    "print(len(cnt_df[cnt_df['cnt'].isnull()]))"
   ]
  },
  {
   "cell_type": "code",
   "execution_count": 39,
   "metadata": {},
   "outputs": [
    {
     "name": "stdout",
     "output_type": "stream",
     "text": [
      "Index(['date_dt', 'start_address', 'end_address', 'cnt', 'cnt_p'], dtype='object')\n"
     ]
    }
   ],
   "source": [
    "print(cnt_df.columns)"
   ]
  },
  {
   "cell_type": "code",
   "execution_count": 40,
   "metadata": {},
   "outputs": [
    {
     "name": "stdout",
     "output_type": "stream",
     "text": [
      "(26852, 10) Index(['date_dt', 'city_code', 'district_code', 'dwell', 'flow_in', 'flow_out',\n",
      "       'address', 'month', 'day', 'weekd'],\n",
      "      dtype='object')\n",
      "(1470, 8) Index(['date_dt', 'city_code', 'district_code', 'dwell', 'flow_in', 'flow_out',\n",
      "       'address', 'month', 'day', 'weekd'],\n",
      "      dtype='object')\n"
     ]
    }
   ],
   "source": [
    "flow_train=pd.read_csv('../data/flow_train1.csv')\n",
    "flow_test=pd.read_csv('../data/flow_test1.csv')\n",
    "print(flow_train.shape,flow_train.columns)\n",
    "print(flow_test.shape,flow_train.columns)"
   ]
  },
  {
   "cell_type": "code",
   "execution_count": 41,
   "metadata": {},
   "outputs": [],
   "source": [
    "flow_train['address_str']=flow_train['city_code'].astype(str)+':'+flow_train['district_code'].astype(str)"
   ]
  },
  {
   "cell_type": "code",
   "execution_count": 42,
   "metadata": {},
   "outputs": [],
   "source": [
    "flow_test['address_str']=flow_test['address']  #address_label是str\n",
    "flow_test['address']=flow_test['address_code']   #address是labelencoder()后的\n",
    "del flow_test['address_code']"
   ]
  },
  {
   "cell_type": "code",
   "execution_count": 43,
   "metadata": {},
   "outputs": [],
   "source": [
    "flow_df=pd.concat([flow_train,flow_test],axis=0)"
   ]
  },
  {
   "cell_type": "code",
   "execution_count": 45,
   "metadata": {},
   "outputs": [],
   "source": [
    "tmp=cnt_df.groupby(['date_dt','start_address'])['cnt_p'].sum().reset_index(name='flow_out_sqrt')\n",
    "tmp['address']=tmp['start_address']\n",
    "flow_df=flow_df.merge(tmp,on=['date_dt','address'],how='left')"
   ]
  },
  {
   "cell_type": "code",
   "execution_count": 46,
   "metadata": {},
   "outputs": [],
   "source": [
    "tmp1=cnt_df.groupby(['date_dt','end_address'])['cnt_p'].sum().reset_index(name='flow_in_sqrt')\n",
    "tmp1['address']=tmp1['end_address']\n",
    "flow_df=flow_df.merge(tmp1,on=['date_dt','address'],how='left')"
   ]
  },
  {
   "cell_type": "code",
   "execution_count": 50,
   "metadata": {},
   "outputs": [],
   "source": [
    "flow_df.to_csv('../data/flow_df_with_sqrt.csv',index=False)"
   ]
  },
  {
   "cell_type": "code",
   "execution_count": null,
   "metadata": {},
   "outputs": [],
   "source": []
  }
 ],
 "metadata": {
  "kernelspec": {
   "display_name": "Python 3",
   "language": "python",
   "name": "python3"
  },
  "language_info": {
   "codemirror_mode": {
    "name": "ipython",
    "version": 3
   },
   "file_extension": ".py",
   "mimetype": "text/x-python",
   "name": "python",
   "nbconvert_exporter": "python",
   "pygments_lexer": "ipython3",
   "version": "3.6.4"
  }
 },
 "nbformat": 4,
 "nbformat_minor": 2
}
